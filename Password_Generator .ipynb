{
 "cells": [
  {
   "cell_type": "code",
   "execution_count": null,
   "metadata": {},
   "outputs": [],
   "source": [
    "#Password Generator "
   ]
  },
  {
   "cell_type": "code",
   "execution_count": null,
   "metadata": {},
   "outputs": [],
   "source": [
    "import random\n",
    "##########################################################  Defining Varaible Set ###########################################################################\n",
    "letters= ['a', 'b', 'c', 'd', 'e', 'f', 'g', 'h', 'i', 'j', 'k', 'l', 'm', 'n', 'o', 'p', 'q', 'r', 's', 't', 'v', 'u', 'w', 'x', 'y', 'z' , 'A','B','C','D','E','F','G','H','I','J','K','L','M','N','O','P','Q','R','S','T','U','V','W','X','Y','Z' ]\n",
    "numbers= ['0','1','2','3','4','5','6','7','8','9']\n",
    "symbols =[ '#','&','@','{' ,'}','[,',':','%', '/', '!','(',')','*','§','<','>']\n",
    "print('Welcome to my pc pasword')\n",
    "nr_letters=int (input(\"how  many letters would you like in your password?\\n\"))\n",
    "nr_numbers=int(input(\" how  many numbers would you like in your password?\\n\"))\n",
    "nr_symbols=int(input(\" how  many symbols would you like in your password?\\n\"))\n",
    "############################################################# Simple Password ################################################################################# \n",
    "password=\" \"\n",
    "for char in range (1, nr_letters+1):\n",
    " password+=random.choice(letters)\n",
    "for char in range (1, nr_numbers+1):\n",
    "  password+=random.choice(numbers)\n",
    "for char in range (1, nr_symbols+1):\n",
    "  password+=random.choice(symbols)\n",
    "#print(password)\n",
    "########################################################## Random Password instead of Simple  #################################################################\n",
    "password_list=[]\n",
    "for char in range (1, nr_letters+1):\n",
    " password_list.append(random.choice(letters))\n",
    "for char in range (1, nr_numbers+1):\n",
    "  password_list.append(random.choice(numbers))\n",
    "for char in range (1, nr_symbols+1):\n",
    "  password_list.append(random.choice(symbols))\n",
    "#print(password_list)\n",
    "################################################################### Reshuffle ################################################################################\n",
    "random.shuffle(password_list)\n",
    "#print(password_list)\n",
    "7#################################################################### Print as String #########################################################################\n",
    "password =\"\"\n",
    "for char in password_list:\n",
    "    password+=char\n",
    "\n",
    "print(f\"Your password is :{password}\")"
   ]
  },
  {
   "cell_type": "code",
   "execution_count": null,
   "metadata": {},
   "outputs": [],
   "source": [
    "# how to replace the blanks in given blanks "
   ]
  },
  {
   "cell_type": "code",
   "execution_count": 9,
   "metadata": {},
   "outputs": [
    {
     "name": "stdout",
     "output_type": "stream",
     "text": [
      "['_', '_', '_', '_', '_']\n",
      "you guesss is not in chosen_word you loose a life\n",
      "['_', '_', '_', '_', '_']\n",
      "['a', '_', '_', '_', '_']\n",
      "['a', 'p', 'p', '_', '_']\n",
      "you guesss is not in chosen_word you loose a life\n",
      "['a', 'p', 'p', '_', '_']\n",
      "['a', 'p', 'p', 'l', '_']\n",
      "you already guess\n",
      "['a', 'p', 'p', 'l', '_']\n",
      "you guesss is not in chosen_word you loose a life\n",
      "['a', 'p', 'p', 'l', '_']\n",
      "you guesss is not in chosen_word you loose a life\n",
      "['a', 'p', 'p', 'l', '_']\n",
      "['a', 'p', 'p', 'l', 'e']\n",
      "You Won\n"
     ]
    }
   ],
   "source": [
    "import random\n",
    "import os\n",
    "import time \n",
    "import sys \n",
    "#from hangman_words import word_list\n",
    "word_list =[\"avakado\",\"baboon\",\"apple\",\"banana\",\"orange\"]\n",
    "chosen_word=random.choice(word_list)\n",
    "#print(chosen_word)\n",
    "lives=6\n",
    "#from hangman_art import logo, stages \n",
    "#print(logo)\n",
    "display =[] #create blanks \n",
    "for _ in range (len(chosen_word)):\n",
    "    display += \"_\"\n",
    "print(display)\n",
    "end_of_game=False\n",
    "while not end_of_game==True:\n",
    "  guess=input(\"Guess a letter: \").lower() # take input from user \n",
    "  if guess in display:\n",
    "    print(\"you already guess\")\n",
    "\n",
    "\n",
    "\n",
    "\n",
    "\n",
    "\n",
    "  for i in range(len(chosen_word)):\n",
    "        letter=chosen_word[i]\n",
    "        #print(chosen_word[i])\n",
    "        if letter==guess: # check if \n",
    "          \n",
    "             display[i]= letter # assign the letter to index i \n",
    "          \n",
    "        #if guess in display:\n",
    "                 #print(\"you already guess it before\")\n",
    "          #else:\n",
    "  if guess not in chosen_word:\n",
    "    print(\"you guesss is not in chosen_word you loose a life\")\n",
    "    lives-=1\n",
    "    if lives==0:\n",
    "      end_of_game =True\n",
    "      print(\"you lose \")     \n",
    "  print(display)\n",
    "  if \"_\" not in display: #end condition of game \n",
    "    end_of_game=True \n",
    "    #print(display)\n",
    "    print(\"You Won\")\n",
    "    #print(stages[lives])\n",
    "  "
   ]
  },
  {
   "cell_type": "code",
   "execution_count": null,
   "metadata": {},
   "outputs": [],
   "source": []
  },
  {
   "cell_type": "code",
   "execution_count": null,
   "metadata": {},
   "outputs": [],
   "source": []
  },
  {
   "cell_type": "code",
   "execution_count": null,
   "metadata": {},
   "outputs": [],
   "source": [
    "\n",
    "from turtle import *\n",
    "bgcolor('black')\n",
    "speed(0)\n",
    "hideturtle()\n",
    "for i in range(1500):\n",
    "    color('green')\n",
    "    circle(i)\n",
    "    color('orange')\n",
    "    circle(i*.8)\n",
    "    color('blue')\n",
    "    circle(i*.6)\n",
    "    color('red')\n",
    "    circle(i*1.4)\n",
    "    right(3)\n",
    "    forward(3)\n"
   ]
  },
  {
   "cell_type": "code",
   "execution_count": 38,
   "metadata": {},
   "outputs": [],
   "source": [
    "\n",
    "number=input(\"enter any number:\")\n",
    "def prime_checker(number):\n",
    "    is_prime=True\n",
    "    for i in range (2,number):\n",
    "        if number%2==0:\n",
    "            is_prime=False\n",
    "    if is_prime:\n",
    "        print('prime')\n",
    "    else:\n",
    "        print('not prime')"
   ]
  },
  {
   "cell_type": "code",
   "execution_count": 41,
   "metadata": {},
   "outputs": [
    {
     "name": "stdout",
     "output_type": "stream",
     "text": [
      "prime\n"
     ]
    }
   ],
   "source": [
    "prime_checker(21)"
   ]
  },
  {
   "cell_type": "code",
   "execution_count": 24,
   "metadata": {},
   "outputs": [
    {
     "ename": "NameError",
     "evalue": "name 'csipher' is not defined",
     "output_type": "error",
     "traceback": [
      "\u001b[1;31m---------------------------------------------------------------------------\u001b[0m",
      "\u001b[1;31mNameError\u001b[0m                                 Traceback (most recent call last)",
      "\u001b[1;32m<ipython-input-24-1338f7177dfe>\u001b[0m in \u001b[0;36m<module>\u001b[1;34m\u001b[0m\n\u001b[0;32m     14\u001b[0m             \u001b[0mnew_position\u001b[0m \u001b[1;33m=\u001b[0m\u001b[0mposition\u001b[0m\u001b[1;33m+\u001b[0m\u001b[0mshift_amount\u001b[0m\u001b[1;33m\u001b[0m\u001b[1;33m\u001b[0m\u001b[0m\n\u001b[0;32m     15\u001b[0m             \u001b[0mcsipher\u001b[0m\u001b[1;33m+=\u001b[0m\u001b[0malphabet\u001b[0m\u001b[1;33m[\u001b[0m\u001b[0mnew_position\u001b[0m\u001b[1;33m]\u001b[0m\u001b[1;33m\u001b[0m\u001b[1;33m\u001b[0m\u001b[0m\n\u001b[1;32m---> 16\u001b[1;33m     \u001b[0mprint\u001b[0m\u001b[1;33m(\u001b[0m\u001b[1;34mf\"The enoded messange is{csipher}d \"\u001b[0m\u001b[1;33m)\u001b[0m\u001b[1;33m\u001b[0m\u001b[1;33m\u001b[0m\u001b[0m\n\u001b[0m\u001b[0;32m     17\u001b[0m \u001b[1;33m\u001b[0m\u001b[0m\n\u001b[0;32m     18\u001b[0m \u001b[1;32melif\u001b[0m \u001b[0mdirection\u001b[0m \u001b[1;33m==\u001b[0m\u001b[1;34m\"decode\"\u001b[0m\u001b[1;33m:\u001b[0m\u001b[1;33m\u001b[0m\u001b[1;33m\u001b[0m\u001b[0m\n",
      "\u001b[1;31mNameError\u001b[0m: name 'csipher' is not defined"
     ]
    }
   ],
   "source": [
    "#csipher1_code\n",
    "alphabet=['a','b','c','d','e','f','g','h','i','j','k','l','n','m','o','p','q','r','s','t','v','w','x','y','z']\n",
    "direction =input(\"Type encode for encrypt and decode for decrypt:\\n\")\n",
    "text=input(\"enter the th text:\")\n",
    "shift=input(\"enter the shift amount:\")\n",
    "\n",
    "if direction ==\"encode\":\n",
    "    \n",
    "\n",
    "    def encode(plain_text, shift_amount):\n",
    "        csipher =\"\"\n",
    "        for letter in plain_text:\n",
    "            position=alphabet.index(letter)\n",
    "            new_position =position+shift_amount\n",
    "            csipher+=alphabet[new_position]\n",
    "    print(f\"The enoded messange is{csipher} \")\n",
    "\n",
    "elif direction ==\"decode\": \n",
    "    \n",
    "     def decode (csipher, shift_amount):\n",
    "        plain_text=\"\"\n",
    "        for letter in csipher:\n",
    "            position=alphabet.index(letter)\n",
    "            new_position=position-shift_amount\n",
    "            plain_text+=alphabet[new_position]\n",
    "        print(f\"The decoded message is {plain_text}\")\n",
    "\n",
    "\n",
    "\n"
   ]
  },
  {
   "cell_type": "code",
   "execution_count": null,
   "metadata": {},
   "outputs": [],
   "source": []
  },
  {
   "cell_type": "code",
   "execution_count": 87,
   "metadata": {},
   "outputs": [
    {
     "name": "stdout",
     "output_type": "stream",
     "text": [
      "encoded text is jgmmq\n"
     ]
    }
   ],
   "source": []
  },
  {
   "cell_type": "code",
   "execution_count": 48,
   "metadata": {},
   "outputs": [
    {
     "name": "stdout",
     "output_type": "stream",
     "text": [
      "encoded text is jgnnq\n",
      "encoded text is jgnnq\n",
      "decoded text is hollo\n",
      "encoded text is jgnnq\n",
      "jqnnqd text is 2\n",
      "decoded text is hello\n",
      "decoded text is hollo\n",
      "jgnnqd text is khoor\n",
      "decoded text is hello\n"
     ]
    },
    {
     "ename": "ValueError",
     "evalue": "invalid literal for int() with base 10: ''",
     "output_type": "error",
     "traceback": [
      "\u001b[1;31m---------------------------------------------------------------------------\u001b[0m",
      "\u001b[1;31mValueError\u001b[0m                                Traceback (most recent call last)",
      "\u001b[1;32m<ipython-input-48-cd05983aaf81>\u001b[0m in \u001b[0;36m<module>\u001b[1;34m\u001b[0m\n\u001b[0;32m     19\u001b[0m     \u001b[0mdirection\u001b[0m \u001b[1;33m=\u001b[0m\u001b[0minput\u001b[0m\u001b[1;33m(\u001b[0m\u001b[1;34m\"Type encode for encrypt and decode for decrypt:\\n\"\u001b[0m\u001b[1;33m)\u001b[0m\u001b[1;33m\u001b[0m\u001b[1;33m\u001b[0m\u001b[0m\n\u001b[0;32m     20\u001b[0m     \u001b[0mtext\u001b[0m\u001b[1;33m=\u001b[0m\u001b[0minput\u001b[0m\u001b[1;33m(\u001b[0m\u001b[1;34m\"enter the the text:\\n\"\u001b[0m\u001b[1;33m)\u001b[0m\u001b[1;33m.\u001b[0m\u001b[0mlower\u001b[0m\u001b[1;33m(\u001b[0m\u001b[1;33m)\u001b[0m\u001b[1;33m\u001b[0m\u001b[1;33m\u001b[0m\u001b[0m\n\u001b[1;32m---> 21\u001b[1;33m     \u001b[0mshift\u001b[0m\u001b[1;33m=\u001b[0m\u001b[0mint\u001b[0m\u001b[1;33m(\u001b[0m\u001b[0minput\u001b[0m\u001b[1;33m(\u001b[0m\u001b[1;34m\"enter the shift_amount:\\n\"\u001b[0m\u001b[1;33m)\u001b[0m\u001b[1;33m)\u001b[0m\u001b[1;33m\u001b[0m\u001b[1;33m\u001b[0m\u001b[0m\n\u001b[0m\u001b[0;32m     22\u001b[0m     \u001b[0mshift\u001b[0m\u001b[1;33m=\u001b[0m\u001b[0mshift\u001b[0m \u001b[1;33m%\u001b[0m \u001b[1;36m26\u001b[0m\u001b[1;33m\u001b[0m\u001b[1;33m\u001b[0m\u001b[0m\n\u001b[0;32m     23\u001b[0m     \u001b[0mcaeser\u001b[0m\u001b[1;33m(\u001b[0m\u001b[0mstart_text\u001b[0m \u001b[1;33m=\u001b[0m\u001b[0mtext\u001b[0m\u001b[1;33m,\u001b[0m \u001b[0mshift_amount\u001b[0m \u001b[1;33m=\u001b[0m\u001b[0mshift\u001b[0m\u001b[1;33m,\u001b[0m \u001b[0mcispher_direction\u001b[0m\u001b[1;33m=\u001b[0m\u001b[0mdirection\u001b[0m\u001b[1;33m)\u001b[0m\u001b[1;33m\u001b[0m\u001b[1;33m\u001b[0m\u001b[0m\n",
      "\u001b[1;31mValueError\u001b[0m: invalid literal for int() with base 10: ''"
     ]
    }
   ],
   "source": [
    "alphabet=['a','b','c','d','e','f','g','h','i','j','k','l','m','n','o','p','q','r','s','t','u','v','w','x','y','z','a','b','c','d','e','f','g','h','i','j','k','l','m','n','o','p','q','r','s','t','u','v','w','x','y','z']\n",
    "\n",
    "def caeser(start_text, shift_amount, cispher_direction):\n",
    "    end_text=\"\"\n",
    "    if cispher_direction==\"decode\":\n",
    "           shift_amount=shift_amount*(-1)\n",
    "    for char in start_text:\n",
    "        if char in alphabet:\n",
    "          position=alphabet.index(char) \n",
    "          new_position=position + shift_amount\n",
    "          end_text+=alphabet[new_position]\n",
    "        else:\n",
    "            end_text +=char\n",
    "    \n",
    "    print(f\"{cispher_direction}d text is {end_text}\")\n",
    "    ################################################################## continuity################################\n",
    "should=True\n",
    "while should:\n",
    "    direction =input(\"Type encode for encrypt and decode for decrypt:\\n\")\n",
    "    text=input(\"enter the the text:\\n\").lower()\n",
    "    shift=int(input(\"enter the shift_amount:\\n\"))\n",
    "    shift=shift % 26\n",
    "    caeser(start_text =text, shift_amount =shift, cispher_direction=direction)\n",
    "    result=input(\"Type 'yes' if you want to go again. Otherwise type 'No'.\\n\")\n",
    "    if result==\"no\":\n",
    "        should=False\n",
    "        print(\"Good bye\")\n",
    "\n",
    "\n"
   ]
  },
  {
   "cell_type": "code",
   "execution_count": null,
   "metadata": {},
   "outputs": [],
   "source": []
  }
 ],
 "metadata": {
  "kernelspec": {
   "display_name": "Python 3.8.8 ('base')",
   "language": "python",
   "name": "python3"
  },
  "language_info": {
   "codemirror_mode": {
    "name": "ipython",
    "version": 3
   },
   "file_extension": ".py",
   "mimetype": "text/x-python",
   "name": "python",
   "nbconvert_exporter": "python",
   "pygments_lexer": "ipython3",
   "version": "3.8.8"
  },
  "orig_nbformat": 4,
  "vscode": {
   "interpreter": {
    "hash": "6f5583cf1d9466b5c27e75c89cc6b383bed5736d6b16c51c8074d8690011a952"
   }
  }
 },
 "nbformat": 4,
 "nbformat_minor": 2
}
